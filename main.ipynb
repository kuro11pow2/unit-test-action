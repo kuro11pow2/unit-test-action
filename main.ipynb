{
 "cells": [
  {
   "cell_type": "code",
   "execution_count": null,
   "metadata": {},
   "outputs": [],
   "source": [
    "def add(a, b):\n",
    "    return a + b\n",
    "\n",
    "def test_add():\n",
    "    assert add(3, 5) == 8\n",
    "\n",
    "def test_add_float_and_int():\n",
    "    assert add(5, 8.0002) == 13.0002\n",
    "\n",
    "test_add()\n",
    "test_add_float_and_int()\n",
    "print('테스트 성공')"
   ]
  },
  {
   "cell_type": "code",
   "execution_count": null,
   "metadata": {},
   "outputs": [],
   "source": [
    "!pytest -v"
   ]
  }
 ],
 "metadata": {
  "interpreter": {
   "hash": "92af5a26bf30207789f3855b30100c5615503e73af9dfdccd0909e285010cbfd"
  },
  "kernelspec": {
   "display_name": "Python 3.8.12 64-bit ('base': conda)",
   "language": "python",
   "name": "python3"
  },
  "language_info": {
   "codemirror_mode": {
    "name": "ipython",
    "version": 3
   },
   "file_extension": ".py",
   "mimetype": "text/x-python",
   "name": "python",
   "nbconvert_exporter": "python",
   "pygments_lexer": "ipython3",
   "version": "3.8.12"
  },
  "orig_nbformat": 4
 },
 "nbformat": 4,
 "nbformat_minor": 2
}
